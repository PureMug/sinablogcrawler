{
 "cells": [
  {
   "cell_type": "markdown",
   "metadata": {},
   "source": [
    "some test for python and scrapy syntax"
   ]
  },
  {
   "cell_type": "code",
   "execution_count": 1,
   "metadata": {},
   "outputs": [],
   "source": [
    "import scrapy"
   ]
  },
  {
   "cell_type": "code",
   "execution_count": null,
   "metadata": {},
   "outputs": [],
   "source": [
    "str = 'http://blog.sina.com.cn/s/articlelist_1215172700_9_1.html'\n",
    "astr = str.split('/')\n",
    "for s in astr:\n",
    "\tprint(s)\n",
    "\t"
   ]
  },
  {
   "cell_type": "code",
   "execution_count": 4,
   "metadata": {},
   "outputs": [],
   "source": [
    "# f = open('test1.txt', 'w')\n",
    "# f.write('this is a test')\n",
    "# f = open('test1.txt', 'r')\n",
    "# f.read()\n",
    "\n",
    "with open('test1.txt', 'w') as f:\n",
    "\tf.write('测试写入')"
   ]
  },
  {
   "cell_type": "code",
   "execution_count": null,
   "metadata": {},
   "outputs": [],
   "source": [
    "body = open('list.html').read()\n",
    "selector = scrapy.Selector(text = body)\n",
    "\n",
    "# for each in selector.xpath('//div[@class=\"articleCell SG_j_linedot1\"]'):\n",
    "# \tp0a = each.xpath('p[@class=\"atc_main SG_dot\"]//a')\n",
    "# \tp1t = each.xpath('p[@class=\"atc_info\"]/span/text()')\n",
    "# \t# print(p0a.extract())\n",
    "# \tprint(p0a.xpath('@href')[0].extract())\n",
    "# \tprint(p0a.xpath('text()')[0].extract())\n",
    "# \tprint(p1t[0].extract())\n",
    "\n",
    "anextp = selector.xpath('//div[@class=\"SG_page\"]//a[contains(text(), \"下一页\")]/@href')\n",
    "print(anextp[0].extract())"
   ]
  },
  {
   "cell_type": "code",
   "execution_count": null,
   "metadata": {},
   "outputs": [],
   "source": [
    "body = open('article.html').read()\n",
    "selector = scrapy.Selector(text = body)\n",
    "\n",
    "# title = selector.xpath('//div[@class=\"articalTitle\"]/h2/text()').extract_first()\n",
    "# title\n",
    "\n",
    "pubtime = selector.xpath('//div[@class=\"articalTitle\"]/span[@class=\"time SG_txtc\"]/text()').extract_first()\n",
    "pubtime\n",
    "\n",
    "# text = selector.xpath('//div[@id=\"sina_keyword_ad_area2\"]').xpath('string()')\n",
    "# text = text[0].extract().strip()\n",
    "# article = ''\n",
    "# for line in str.split('\\n'):\n",
    "# \ttmp = line.strip()\n",
    "# \tif tmp != '' and tmp != '浏览“缠中说禅”更多文章请点击进入缠中说禅':\n",
    "# \t\tarticle += '<p>' + tmp + '</p>\\n'\n",
    "\n",
    "# print(article)"
   ]
  },
  {
   "cell_type": "code",
   "execution_count": null,
   "metadata": {},
   "outputs": [],
   "source": [
    "str = '<navPoint id=\"num_$n\" playOrder=\"$n\">'\n",
    "str = str.replace('$n', '10')\n",
    "str"
   ]
  },
  {
   "cell_type": "code",
   "execution_count": null,
   "metadata": {},
   "outputs": [],
   "source": [
    "str = 'http://blog.sina.com.cn/s/blog_486e105c0100afno.html'\n",
    "str.startswith('https')"
   ]
  },
  {
   "cell_type": "code",
   "execution_count": null,
   "metadata": {},
   "outputs": [],
   "source": [
    "list = ['a', 'b', 'c']\n",
    "for idx, val in enumerate(reversed(list), 1):\n",
    "\tprint(idx)\n",
    "\tprint(val)"
   ]
  },
  {
   "cell_type": "code",
   "execution_count": null,
   "metadata": {},
   "outputs": [],
   "source": [
    "index = 3\n",
    "newname = ('0000' + str(index))[-4:] + '.html'\n",
    "newname\n",
    "# '0000' + str(index)\n",
    "# '00003'[-4:]"
   ]
  }
 ],
 "metadata": {
  "interpreter": {
   "hash": "d727dc3628f678e33380a6bcba5ba5cea30edc9bdf2a8273eb31502a4eb4883a"
  },
  "kernelspec": {
   "display_name": "Python 3.9.2 64-bit ('datasci': venv)",
   "language": "python",
   "name": "python3"
  },
  "language_info": {
   "codemirror_mode": {
    "name": "ipython",
    "version": 3
   },
   "file_extension": ".py",
   "mimetype": "text/x-python",
   "name": "python",
   "nbconvert_exporter": "python",
   "pygments_lexer": "ipython3",
   "version": "3.9.9"
  },
  "orig_nbformat": 4
 },
 "nbformat": 4,
 "nbformat_minor": 2
}
